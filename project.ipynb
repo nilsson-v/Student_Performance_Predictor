{
 "cells": [
  {
   "cell_type": "code",
   "execution_count": 3,
   "metadata": {},
   "outputs": [],
   "source": [
    "import pandas as pd\n",
    "import numpy as np\n"
   ]
  },
  {
   "cell_type": "code",
   "execution_count": 2,
   "metadata": {},
   "outputs": [
    {
     "data": {
      "text/plain": [
       "<bound method NDFrame.head of       Student ID  Study Hours per Week  Attendance Rate  Previous Grades  \\\n",
       "0         S00001                  12.5              NaN             75.0   \n",
       "1         S00002                   9.3             95.3             60.6   \n",
       "2         S00003                  13.2              NaN             64.0   \n",
       "3         S00004                  17.6             76.8             62.4   \n",
       "4         S00005                   8.8             89.3             72.7   \n",
       "...          ...                   ...              ...              ...   \n",
       "39995     S39996                  15.6             93.8             51.4   \n",
       "39996     S39997                  11.3             66.4             64.2   \n",
       "39997     S39998                  13.1             65.6             38.1   \n",
       "39998     S39999                  14.1             74.9              NaN   \n",
       "39999     S40000                  11.8             55.1             68.5   \n",
       "\n",
       "      Participation in Extracurricular Activities Parent Education Level  \\\n",
       "0                                             Yes                 Master   \n",
       "1                                              No            High School   \n",
       "2                                              No              Associate   \n",
       "3                                             Yes               Bachelor   \n",
       "4                                              No                 Master   \n",
       "...                                           ...                    ...   \n",
       "39995                                         Yes                 Master   \n",
       "39996                                          No              Doctorate   \n",
       "39997                                          No               Bachelor   \n",
       "39998                                         Yes                 Master   \n",
       "39999                                          No               Bachelor   \n",
       "\n",
       "      Passed  \n",
       "0        Yes  \n",
       "1         No  \n",
       "2         No  \n",
       "3         No  \n",
       "4         No  \n",
       "...      ...  \n",
       "39995     No  \n",
       "39996    Yes  \n",
       "39997     No  \n",
       "39998     No  \n",
       "39999    Yes  \n",
       "\n",
       "[40000 rows x 7 columns]>"
      ]
     },
     "execution_count": 2,
     "metadata": {},
     "output_type": "execute_result"
    }
   ],
   "source": [
    "df = pd.read_csv(\"student_performance_prediction.csv\")\n",
    "df.head"
   ]
  }
 ],
 "metadata": {
  "kernelspec": {
   "display_name": "Python 3",
   "language": "python",
   "name": "python3"
  },
  "language_info": {
   "codemirror_mode": {
    "name": "ipython",
    "version": 3
   },
   "file_extension": ".py",
   "mimetype": "text/x-python",
   "name": "python",
   "nbconvert_exporter": "python",
   "pygments_lexer": "ipython3",
   "version": "3.11.5"
  }
 },
 "nbformat": 4,
 "nbformat_minor": 2
}
